{
 "cells": [
  {
   "cell_type": "markdown",
   "metadata": {},
   "source": [
    "# **Advanced regression and prediction final project**: data preprocessing"
   ]
  },
  {
   "cell_type": "markdown",
   "metadata": {},
   "source": [
    "### Daniel A.\n",
    "### UID: 100444499"
   ]
  },
  {
   "cell_type": "markdown",
   "metadata": {},
   "source": [
    "### Importing Libraries"
   ]
  },
  {
   "cell_type": "code",
   "execution_count": 1,
   "metadata": {},
   "outputs": [],
   "source": [
    "import pandas as pd\n",
    "import numpy as np\n",
    "import json"
   ]
  },
  {
   "cell_type": "markdown",
   "metadata": {},
   "source": [
    "### Importing data"
   ]
  },
  {
   "cell_type": "raw",
   "metadata": {},
   "source": [
    "Prior to importing the data, I have removed all matches obtained with the following regex: \\\"\\s\\[[\\w\\S]{1,}\\]\\\", in order to remove some tags that the world bank databank adds to their columns"
   ]
  },
  {
   "cell_type": "code",
   "execution_count": 2,
   "metadata": {},
   "outputs": [],
   "source": [
    "# Importing the raw data\n",
    "raw_data = pd.read_csv('../data/raw/wb_raw_data.csv')"
   ]
  },
  {
   "cell_type": "markdown",
   "metadata": {},
   "source": [
    "### Initial modifications and selection of range of rows"
   ]
  },
  {
   "cell_type": "code",
   "execution_count": 3,
   "metadata": {},
   "outputs": [],
   "source": [
    "# excluding aggregates\n",
    "codes_to_exclude = raw_data.iloc[5497:5544,3].values\n",
    "\n",
    "# filtering the dataset\n",
    "data = raw_data[~(raw_data['Country Code'].isin(codes_to_exclude))] \n",
    "\n",
    "# removing final diagnostic columns\n",
    "data = data[~(data['Time'].isna()) & ~(data['Time Code'].isna())]\n",
    "\n",
    "# converting year column to integer\n",
    "data['Time'] = data['Time'].astype(int)\n",
    "\n",
    "# replacing .. with NAN as the raw data indends this to be a NAN\n",
    "data = data.replace('..',np.nan)\n",
    "\n",
    "# sorting values\n",
    "data = data.sort_values(['Time','Country Name'])"
   ]
  },
  {
   "cell_type": "markdown",
   "metadata": {},
   "source": [
    "#### Years imported"
   ]
  },
  {
   "cell_type": "code",
   "execution_count": 4,
   "metadata": {},
   "outputs": [
    {
     "name": "stdout",
     "output_type": "stream",
     "text": [
      "[2000 2001 2002 2003 2004 2005 2006 2007 2008 2009 2010 2011 2012 2013\n",
      " 2014 2015 2016 2017 2018 2019 2020]\n"
     ]
    }
   ],
   "source": [
    "# checking years we have queried\n",
    "years = data.Time.unique()\n",
    "print(years)"
   ]
  },
  {
   "cell_type": "markdown",
   "metadata": {},
   "source": [
    "### Filling NAs with previous year's data"
   ]
  },
  {
   "cell_type": "code",
   "execution_count": 5,
   "metadata": {},
   "outputs": [],
   "source": [
    "# making a dictionary with the subsets of the main dataframe\n",
    "dfs = {}\n",
    "for year in years:\n",
    "    dfs[year] = data[data['Time'] == year].reset_index(drop=True)\n",
    "\n",
    "# replacing nans in the 2020 dataframe with previous years data, as \n",
    "# the previous years' data still serves us a purpose for the analysis\n",
    "for year in years:   \n",
    "    dfs[2020] = dfs[2020].fillna(dfs[year])"
   ]
  },
  {
   "cell_type": "markdown",
   "metadata": {},
   "source": [
    "### Importing and cleaning up the COVID-19 dataset"
   ]
  },
  {
   "cell_type": "code",
   "execution_count": 6,
   "metadata": {},
   "outputs": [
    {
     "data": {
      "text/html": "<div>\n<style scoped>\n    .dataframe tbody tr th:only-of-type {\n        vertical-align: middle;\n    }\n\n    .dataframe tbody tr th {\n        vertical-align: top;\n    }\n\n    .dataframe thead th {\n        text-align: right;\n    }\n</style>\n<table border=\"1\" class=\"dataframe\">\n  <thead>\n    <tr style=\"text-align: right;\">\n      <th></th>\n      <th>Time</th>\n      <th>Time Code</th>\n      <th>Country Name</th>\n      <th>Country Code</th>\n      <th>Access to electricity (% of population)</th>\n      <th>Bank liquid reserves to bank assets ratio (%)</th>\n      <th>Birth rate, crude (per 1,000 people)</th>\n      <th>Gini index (World Bank estimate)</th>\n      <th>Life expectancy at birth, total (years)</th>\n      <th>Exports of goods and services (% of GDP)</th>\n      <th>...</th>\n      <th>International tourism, number of departures</th>\n      <th>iso_code</th>\n      <th>total_cases_per_million</th>\n      <th>total_deaths_per_million</th>\n      <th>total_tests_per_thousand</th>\n      <th>total_vaccinations_per_hundred</th>\n      <th>population</th>\n      <th>population_density</th>\n      <th>median_age</th>\n      <th>human_development_index</th>\n    </tr>\n  </thead>\n  <tbody>\n    <tr>\n      <th>0</th>\n      <td>2020</td>\n      <td>YR2020</td>\n      <td>Afghanistan</td>\n      <td>AFG</td>\n      <td>23</td>\n      <td>18.909954522551</td>\n      <td>48.021</td>\n      <td>NaN</td>\n      <td>55.841</td>\n      <td>NaN</td>\n      <td>...</td>\n      <td>NaN</td>\n      <td>AFG</td>\n      <td>1539.727</td>\n      <td>67.586</td>\n      <td>NaN</td>\n      <td>NaN</td>\n      <td>38928341.0</td>\n      <td>54.422</td>\n      <td>18.6</td>\n      <td>0.511</td>\n    </tr>\n    <tr>\n      <th>1</th>\n      <td>2020</td>\n      <td>YR2020</td>\n      <td>Albania</td>\n      <td>ALB</td>\n      <td>99.9</td>\n      <td>28.1796966161027</td>\n      <td>16.436</td>\n      <td>31.7</td>\n      <td>73.955</td>\n      <td>20.1153637600108</td>\n      <td>...</td>\n      <td>955000</td>\n      <td>ALB</td>\n      <td>45585.169</td>\n      <td>832.580</td>\n      <td>214.995</td>\n      <td>17.17</td>\n      <td>2877800.0</td>\n      <td>104.871</td>\n      <td>38.0</td>\n      <td>0.795</td>\n    </tr>\n    <tr>\n      <th>2</th>\n      <td>2020</td>\n      <td>YR2020</td>\n      <td>Algeria</td>\n      <td>DZA</td>\n      <td>98.7472686767578</td>\n      <td>34.4854290989948</td>\n      <td>19.554</td>\n      <td>27.6</td>\n      <td>70.64</td>\n      <td>42.0697279237388</td>\n      <td>...</td>\n      <td>1006000</td>\n      <td>DZA</td>\n      <td>2789.238</td>\n      <td>74.365</td>\n      <td>NaN</td>\n      <td>NaN</td>\n      <td>43851043.0</td>\n      <td>17.348</td>\n      <td>29.1</td>\n      <td>0.748</td>\n    </tr>\n    <tr>\n      <th>3</th>\n      <td>2020</td>\n      <td>YR2020</td>\n      <td>Andorra</td>\n      <td>AND</td>\n      <td>100</td>\n      <td>NaN</td>\n      <td>11.3</td>\n      <td>NaN</td>\n      <td>NaN</td>\n      <td>NaN</td>\n      <td>...</td>\n      <td>NaN</td>\n      <td>AND</td>\n      <td>171254.773</td>\n      <td>1617.809</td>\n      <td>NaN</td>\n      <td>NaN</td>\n      <td>77265.0</td>\n      <td>163.755</td>\n      <td>NaN</td>\n      <td>0.868</td>\n    </tr>\n    <tr>\n      <th>4</th>\n      <td>2020</td>\n      <td>YR2020</td>\n      <td>Angola</td>\n      <td>AGO</td>\n      <td>20</td>\n      <td>24.0002906144722</td>\n      <td>48.15</td>\n      <td>52</td>\n      <td>46.522</td>\n      <td>89.6858311851382</td>\n      <td>...</td>\n      <td>NaN</td>\n      <td>AGO</td>\n      <td>815.882</td>\n      <td>18.256</td>\n      <td>NaN</td>\n      <td>NaN</td>\n      <td>32866268.0</td>\n      <td>23.890</td>\n      <td>16.8</td>\n      <td>0.581</td>\n    </tr>\n    <tr>\n      <th>...</th>\n      <td>...</td>\n      <td>...</td>\n      <td>...</td>\n      <td>...</td>\n      <td>...</td>\n      <td>...</td>\n      <td>...</td>\n      <td>...</td>\n      <td>...</td>\n      <td>...</td>\n      <td>...</td>\n      <td>...</td>\n      <td>...</td>\n      <td>...</td>\n      <td>...</td>\n      <td>...</td>\n      <td>...</td>\n      <td>...</td>\n      <td>...</td>\n      <td>...</td>\n      <td>...</td>\n    </tr>\n    <tr>\n      <th>192</th>\n      <td>2020</td>\n      <td>YR2020</td>\n      <td>Vietnam</td>\n      <td>VNM</td>\n      <td>87.187873840332</td>\n      <td>NaN</td>\n      <td>17.429</td>\n      <td>37</td>\n      <td>73.025</td>\n      <td>53.9214970086223</td>\n      <td>...</td>\n      <td>NaN</td>\n      <td>VNM</td>\n      <td>30.224</td>\n      <td>0.360</td>\n      <td>NaN</td>\n      <td>NaN</td>\n      <td>97338583.0</td>\n      <td>308.127</td>\n      <td>32.6</td>\n      <td>0.704</td>\n    </tr>\n    <tr>\n      <th>193</th>\n      <td>2020</td>\n      <td>YR2020</td>\n      <td>West Bank and Gaza</td>\n      <td>PSE</td>\n      <td>99.7</td>\n      <td>10.466392868065</td>\n      <td>40.9</td>\n      <td>34</td>\n      <td>71.022</td>\n      <td>20.5165059347181</td>\n      <td>...</td>\n      <td>NaN</td>\n      <td>PSE</td>\n      <td>58113.669</td>\n      <td>636.882</td>\n      <td>NaN</td>\n      <td>NaN</td>\n      <td>5101416.0</td>\n      <td>778.202</td>\n      <td>20.4</td>\n      <td>0.708</td>\n    </tr>\n    <tr>\n      <th>194</th>\n      <td>2020</td>\n      <td>YR2020</td>\n      <td>Yemen, Rep.</td>\n      <td>YEM</td>\n      <td>49.9811706542969</td>\n      <td>NaN</td>\n      <td>39.517</td>\n      <td>34.7</td>\n      <td>60.683</td>\n      <td>NaN</td>\n      <td>...</td>\n      <td>NaN</td>\n      <td>YEM</td>\n      <td>212.064</td>\n      <td>41.206</td>\n      <td>NaN</td>\n      <td>NaN</td>\n      <td>29825968.0</td>\n      <td>53.508</td>\n      <td>20.3</td>\n      <td>0.470</td>\n    </tr>\n    <tr>\n      <th>195</th>\n      <td>2020</td>\n      <td>YR2020</td>\n      <td>Zambia</td>\n      <td>ZMB</td>\n      <td>16.7</td>\n      <td>23.145629240221</td>\n      <td>45.271</td>\n      <td>42.1</td>\n      <td>44</td>\n      <td>23.9238608307712</td>\n      <td>...</td>\n      <td>NaN</td>\n      <td>ZMB</td>\n      <td>4986.413</td>\n      <td>68.048</td>\n      <td>76.520</td>\n      <td>NaN</td>\n      <td>18383956.0</td>\n      <td>22.995</td>\n      <td>17.7</td>\n      <td>0.584</td>\n    </tr>\n    <tr>\n      <th>196</th>\n      <td>2020</td>\n      <td>YR2020</td>\n      <td>Zimbabwe</td>\n      <td>ZWE</td>\n      <td>33.8843307495117</td>\n      <td>15.8732316042244</td>\n      <td>31.776</td>\n      <td>43.2</td>\n      <td>44.649</td>\n      <td>38.1597545550961</td>\n      <td>...</td>\n      <td>386000</td>\n      <td>ZWE</td>\n      <td>2574.190</td>\n      <td>105.497</td>\n      <td>33.294</td>\n      <td>3.50</td>\n      <td>14862927.0</td>\n      <td>42.729</td>\n      <td>19.6</td>\n      <td>0.571</td>\n    </tr>\n  </tbody>\n</table>\n<p>197 rows × 57 columns</p>\n</div>",
      "text/plain": "     Time Time Code        Country Name Country Code  \\\n0    2020    YR2020         Afghanistan          AFG   \n1    2020    YR2020             Albania          ALB   \n2    2020    YR2020             Algeria          DZA   \n3    2020    YR2020             Andorra          AND   \n4    2020    YR2020              Angola          AGO   \n..    ...       ...                 ...          ...   \n192  2020    YR2020             Vietnam          VNM   \n193  2020    YR2020  West Bank and Gaza          PSE   \n194  2020    YR2020         Yemen, Rep.          YEM   \n195  2020    YR2020              Zambia          ZMB   \n196  2020    YR2020            Zimbabwe          ZWE   \n\n    Access to electricity (% of population)  \\\n0                                        23   \n1                                      99.9   \n2                          98.7472686767578   \n3                                       100   \n4                                        20   \n..                                      ...   \n192                         87.187873840332   \n193                                    99.7   \n194                        49.9811706542969   \n195                                    16.7   \n196                        33.8843307495117   \n\n    Bank liquid reserves to bank assets ratio (%)  \\\n0                                 18.909954522551   \n1                                28.1796966161027   \n2                                34.4854290989948   \n3                                             NaN   \n4                                24.0002906144722   \n..                                            ...   \n192                                           NaN   \n193                               10.466392868065   \n194                                           NaN   \n195                               23.145629240221   \n196                              15.8732316042244   \n\n    Birth rate, crude (per 1,000 people) Gini index (World Bank estimate)  \\\n0                                 48.021                              NaN   \n1                                 16.436                             31.7   \n2                                 19.554                             27.6   \n3                                   11.3                              NaN   \n4                                  48.15                               52   \n..                                   ...                              ...   \n192                               17.429                               37   \n193                                 40.9                               34   \n194                               39.517                             34.7   \n195                               45.271                             42.1   \n196                               31.776                             43.2   \n\n    Life expectancy at birth, total (years)  \\\n0                                    55.841   \n1                                    73.955   \n2                                     70.64   \n3                                       NaN   \n4                                    46.522   \n..                                      ...   \n192                                  73.025   \n193                                  71.022   \n194                                  60.683   \n195                                      44   \n196                                  44.649   \n\n    Exports of goods and services (% of GDP)  ...  \\\n0                                        NaN  ...   \n1                           20.1153637600108  ...   \n2                           42.0697279237388  ...   \n3                                        NaN  ...   \n4                           89.6858311851382  ...   \n..                                       ...  ...   \n192                         53.9214970086223  ...   \n193                         20.5165059347181  ...   \n194                                      NaN  ...   \n195                         23.9238608307712  ...   \n196                         38.1597545550961  ...   \n\n    International tourism, number of departures iso_code  \\\n0                                           NaN      AFG   \n1                                        955000      ALB   \n2                                       1006000      DZA   \n3                                           NaN      AND   \n4                                           NaN      AGO   \n..                                          ...      ...   \n192                                         NaN      VNM   \n193                                         NaN      PSE   \n194                                         NaN      YEM   \n195                                         NaN      ZMB   \n196                                      386000      ZWE   \n\n    total_cases_per_million total_deaths_per_million total_tests_per_thousand  \\\n0                  1539.727                   67.586                      NaN   \n1                 45585.169                  832.580                  214.995   \n2                  2789.238                   74.365                      NaN   \n3                171254.773                 1617.809                      NaN   \n4                   815.882                   18.256                      NaN   \n..                      ...                      ...                      ...   \n192                  30.224                    0.360                      NaN   \n193               58113.669                  636.882                      NaN   \n194                 212.064                   41.206                      NaN   \n195                4986.413                   68.048                   76.520   \n196                2574.190                  105.497                   33.294   \n\n    total_vaccinations_per_hundred  population population_density median_age  \\\n0                              NaN  38928341.0             54.422       18.6   \n1                            17.17   2877800.0            104.871       38.0   \n2                              NaN  43851043.0             17.348       29.1   \n3                              NaN     77265.0            163.755        NaN   \n4                              NaN  32866268.0             23.890       16.8   \n..                             ...         ...                ...        ...   \n192                            NaN  97338583.0            308.127       32.6   \n193                            NaN   5101416.0            778.202       20.4   \n194                            NaN  29825968.0             53.508       20.3   \n195                            NaN  18383956.0             22.995       17.7   \n196                           3.50  14862927.0             42.729       19.6   \n\n    human_development_index  \n0                     0.511  \n1                     0.795  \n2                     0.748  \n3                     0.868  \n4                     0.581  \n..                      ...  \n192                   0.704  \n193                   0.708  \n194                   0.470  \n195                   0.584  \n196                   0.571  \n\n[197 rows x 57 columns]"
     },
     "execution_count": 6,
     "metadata": {},
     "output_type": "execute_result"
    }
   ],
   "source": [
    "# importing the data\n",
    "covid = pd.read_csv('../data/raw/owid-covid-data-1.csv')\n",
    "\n",
    "# excluding rows without continent and matching a specific date\n",
    "covid = covid[(~covid['continent'].isna()) & (covid['date'] == '2021-05-01')]\n",
    "\n",
    "# only taking the columns we're interested in\n",
    "covid = covid[['iso_code', 'total_cases_per_million', 'total_deaths_per_million', 'total_tests_per_thousand', 'total_vaccinations_per_hundred', 'population','population_density', 'median_age', 'human_development_index']]\n",
    "\n",
    "# joining the COVID-19 and the development indicators datasets\n",
    "dfs[2020] = dfs[2020].merge(right=covid,  left_on='Country Code', right_on='iso_code', how='inner')\n",
    "dfs[2020]"
   ]
  },
  {
   "cell_type": "markdown",
   "metadata": {},
   "source": [
    "### Removing columns with more than 35 NAs"
   ]
  },
  {
   "cell_type": "code",
   "execution_count": 7,
   "metadata": {},
   "outputs": [],
   "source": [
    "# removing columns where there's too many NANs\n",
    "cols_to_keep = []\n",
    "df = {}\n",
    "for col,val in zip(dfs[2020].columns,dfs[2020].isna().sum()):\n",
    "    if val < 35:\n",
    "        cols_to_keep.append(col)\n",
    "df = dfs[2020][cols_to_keep]"
   ]
  },
  {
   "cell_type": "code",
   "execution_count": 8,
   "metadata": {},
   "outputs": [
    {
     "data": {
      "text/plain": "Index(['Time', 'Time Code', 'Country Name', 'Country Code',\n       'Access to electricity (% of population)',\n       'Birth rate, crude (per 1,000 people)',\n       'Life expectancy at birth, total (years)',\n       'Exports of goods and services (% of GDP)',\n       'Compulsory education, duration (years)',\n       'GDP per capita, PPP (current international $)',\n       'Individuals using the Internet (% of population)',\n       'Mortality rate, infant (per 1,000 live births)',\n       'Inflation, consumer prices (annual %)',\n       'Consumer price index (2010 = 100)',\n       'Crop production index (2014-2016 = 100)',\n       'Goods imports (BoP, current US$)',\n       'Prevalence of anemia among pregnant women (%)',\n       'Diabetes prevalence (% of population ages 20 to 79)',\n       'Human capital index (HCI) (scale 0-1)',\n       'Adjusted net enrollment rate, primary (% of primary school age children)',\n       'Immunization, measles (% of children ages 12-23 months)',\n       'CO2 emissions from gaseous fuel consumption (% of total)',\n       'Fossil fuel energy consumption (% of total)',\n       'Fuel exports (% of merchandise exports)',\n       'Fuel imports (% of merchandise imports)',\n       'Foreign direct investment, net inflows (% of GDP)',\n       'Foreign direct investment, net outflows (% of GDP)',\n       'Mobile cellular subscriptions (per 100 people)',\n       'Agricultural land (% of land area)',\n       'Total greenhouse gas emissions (% change from 1990)',\n       'Age dependency ratio (% of working-age population)',\n       'Imports of goods and services (annual % growth)',\n       'International tourism, number of arrivals', 'total_cases_per_million',\n       'total_deaths_per_million', 'population', 'population_density',\n       'median_age', 'human_development_index'],\n      dtype='object')"
     },
     "execution_count": 8,
     "metadata": {},
     "output_type": "execute_result"
    }
   ],
   "source": [
    "# dropping repeated iso code and repetitive columns\n",
    "df = df.drop(['iso_code', 'Foreign direct investment, net (BoP, current US$)'], axis=1)\n",
    "\n",
    "# Columns kept from the finalized dataset\n",
    "df.columns"
   ]
  },
  {
   "cell_type": "markdown",
   "metadata": {},
   "source": [
    "### Removing countries with more than 4 NAs"
   ]
  },
  {
   "cell_type": "code",
   "execution_count": 9,
   "metadata": {},
   "outputs": [],
   "source": [
    "# checking which countries have the most NANs\n",
    "all_countries = df['Country Name'].values\n",
    "countries_removed = []\n",
    "for country,val in zip(all_countries,df.isna().sum(axis=1)):\n",
    "    # removing at 3 nans per row\n",
    "    if val > 4:\n",
    "        countries_removed.append(country)\n",
    "\n",
    "# finally filtering to remove them\n",
    "# either way, these countries are mostly dependencies or \n",
    "# complex countries to get data from, like North Korea\n",
    "# so even after imputing, this would probably\n",
    "# yield unrealistic values\n",
    "df = df[~(df['Country Name'].isin(countries_removed))]"
   ]
  },
  {
   "cell_type": "markdown",
   "metadata": {},
   "source": [
    "### Fixing columns' types and names"
   ]
  },
  {
   "cell_type": "code",
   "execution_count": 10,
   "metadata": {},
   "outputs": [],
   "source": [
    "# modifying columns that are supposed to be numeric\n",
    "cols = list(set(list(df.columns)) - set(['index', 'Time', 'Time Code', 'Country Name', 'Country Code']))\n",
    "for col in cols:\n",
    "    df[col] = df[col].astype(float)\n",
    "\n",
    "# new column names\n",
    "colnames = ['year','year_code','country_name',\n",
    "            'country_code','access_to_electricity',\n",
    "            'birth_rate','life_expectancy',\n",
    "            'exports_perc_gdp','education_years','gdp_per_capita_ppp',\n",
    "            'perc_internet_users','infant_mort_rate',\n",
    "            'inflation_perc', 'consumer_price_index', 'crop_production_index',\n",
    "            'goods_imports', 'prevalence_of_anemia_pregnancy', 'diabetes_prevalence',\n",
    "            'human_capital_index', 'net_enrollment_rate', 'measles_immunization',\n",
    "            'co2_emissions_gaseous_fuel', 'fossil_fuel_energy_consumption', 'fuel_exports', 'fuel_imports',\n",
    "            'investment_inflows', 'investment_outflows', 'mobile_subscriptions',\n",
    "            'agricultural_land', 'greenhouse_gas_em', 'age_dependency_ratio', \n",
    "            'imports_annual_growth', 'int_tourism_arrivals', 'total_covid_cases_per_million',\n",
    "            'total_covid_deaths_per_million', 'population', 'population_density', 'median_age',\n",
    "            'human_development_index']\n",
    "\n",
    "# original colnames : colnames dict\n",
    "col_dict = dict(zip(df.columns,colnames))\n",
    "\n",
    "# renaming columns as the names are too long\n",
    "df.columns = colnames"
   ]
  },
  {
   "cell_type": "markdown",
   "metadata": {},
   "source": [
    "### Constructing the target variable: Access to and reliance on technology"
   ]
  },
  {
   "cell_type": "code",
   "execution_count": 11,
   "metadata": {},
   "outputs": [],
   "source": [
    "# converting mobile subscriptions to a percentage\n",
    "df['mobile_subscriptions'] = ((df['population']/100 * df['mobile_subscriptions'])/df['population'])\n",
    "\n",
    "# creating ar_tech\n",
    "df['ar_tech'] = df['mobile_subscriptions']*0.10 + (df['perc_internet_users']/100)*0.35 + (df['access_to_electricity']/100)*0.55"
   ]
  },
  {
   "cell_type": "markdown",
   "metadata": {},
   "source": [
    "### Exporting the data from Python into R to impute the few missing values left"
   ]
  },
  {
   "cell_type": "code",
   "execution_count": 12,
   "metadata": {},
   "outputs": [],
   "source": [
    "# dropping population from the dataset as it won't be useful for our purposes\n",
    "df = df.drop(['population'], axis=1)\n",
    "\n",
    "# saving the dataset before imputing\n",
    "df.to_csv('../data/preproc_outputs/data_before_imp.csv')\n",
    "\n",
    "# dumping the col information into a json\n",
    "with open('../data/preproc_outputs/columns.json','w') as f:\n",
    "    f.write(json.dumps(col_dict))"
   ]
  },
  {
   "cell_type": "code",
   "execution_count": 1,
   "metadata": {},
   "outputs": [
    {
     "name": "stderr",
     "output_type": "stream",
     "text": [
      "\n",
      "Attaching package: ‘mice’\n",
      "\n",
      "\n",
      "The following object is masked from ‘package:stats’:\n",
      "\n",
      "    filter\n",
      "\n",
      "\n",
      "The following objects are masked from ‘package:base’:\n",
      "\n",
      "    cbind, rbind\n",
      "\n",
      "\n"
     ]
    },
    {
     "name": "stdout",
     "output_type": "stream",
     "text": [
      "\n",
      " iter imp variable\n",
      "  1   1  exports_perc_gdp  education_years  gdp_per_capita_ppp  inflation_perc  consumer_price_index  goods_imports  prevalence_of_anemia_pregnancy  human_capital_index  net_enrollment_rate  measles_immunization  fossil_fuel_energy_consumption  fuel_exports  fuel_imports  investment_outflows  greenhouse_gas_em  age_dependency_ratio  imports_annual_growth  int_tourism_arrivals  total_covid_deaths_per_million  population_density  median_age\n",
      "  1   2  exports_perc_gdp  education_years  gdp_per_capita_ppp  inflation_perc  consumer_price_index  goods_imports  prevalence_of_anemia_pregnancy  human_capital_index  net_enrollment_rate  measles_immunization  fossil_fuel_energy_consumption  fuel_exports  fuel_imports  investment_outflows  greenhouse_gas_em  age_dependency_ratio  imports_annual_growth  int_tourism_arrivals  total_covid_deaths_per_million  population_density  median_age\n",
      "  1   3  exports_perc_gdp  education_years  gdp_per_capita_ppp  inflation_perc  consumer_price_index  goods_imports  prevalence_of_anemia_pregnancy  human_capital_index  net_enrollment_rate  measles_immunization  fossil_fuel_energy_consumption  fuel_exports  fuel_imports  investment_outflows  greenhouse_gas_em  age_dependency_ratio  imports_annual_growth  int_tourism_arrivals  total_covid_deaths_per_million  population_density  median_age\n",
      "  1   4  exports_perc_gdp  education_years  gdp_per_capita_ppp  inflation_perc  consumer_price_index  goods_imports  prevalence_of_anemia_pregnancy  human_capital_index  net_enrollment_rate  measles_immunization  fossil_fuel_energy_consumption  fuel_exports  fuel_imports  investment_outflows  greenhouse_gas_em  age_dependency_ratio  imports_annual_growth  int_tourism_arrivals  total_covid_deaths_per_million  population_density  median_age\n",
      "  1   5  exports_perc_gdp  education_years  gdp_per_capita_ppp  inflation_perc  consumer_price_index  goods_imports  prevalence_of_anemia_pregnancy  human_capital_index  net_enrollment_rate  measles_immunization  fossil_fuel_energy_consumption  fuel_exports  fuel_imports  investment_outflows  greenhouse_gas_em  age_dependency_ratio  imports_annual_growth  int_tourism_arrivals  total_covid_deaths_per_million  population_density  median_age\n",
      "  2   1  exports_perc_gdp  education_years  gdp_per_capita_ppp  inflation_perc  consumer_price_index  goods_imports  prevalence_of_anemia_pregnancy  human_capital_index  net_enrollment_rate  measles_immunization  fossil_fuel_energy_consumption  fuel_exports  fuel_imports  investment_outflows  greenhouse_gas_em  age_dependency_ratio  imports_annual_growth  int_tourism_arrivals  total_covid_deaths_per_million  population_density  median_age\n",
      "  2   2  exports_perc_gdp  education_years  gdp_per_capita_ppp  inflation_perc  consumer_price_index  goods_imports  prevalence_of_anemia_pregnancy  human_capital_index  net_enrollment_rate  measles_immunization  fossil_fuel_energy_consumption  fuel_exports  fuel_imports  investment_outflows  greenhouse_gas_em  age_dependency_ratio  imports_annual_growth  int_tourism_arrivals  total_covid_deaths_per_million  population_density  median_age\n",
      "  2   3  exports_perc_gdp  education_years  gdp_per_capita_ppp  inflation_perc  consumer_price_index  goods_imports  prevalence_of_anemia_pregnancy  human_capital_index  net_enrollment_rate  measles_immunization  fossil_fuel_energy_consumption  fuel_exports  fuel_imports  investment_outflows  greenhouse_gas_em  age_dependency_ratio  imports_annual_growth  int_tourism_arrivals  total_covid_deaths_per_million  population_density  median_age\n",
      "  2   4  exports_perc_gdp  education_years  gdp_per_capita_ppp  inflation_perc  consumer_price_index  goods_imports  prevalence_of_anemia_pregnancy  human_capital_index  net_enrollment_rate  measles_immunization  fossil_fuel_energy_consumption  fuel_exports  fuel_imports  investment_outflows  greenhouse_gas_em  age_dependency_ratio  imports_annual_growth  int_tourism_arrivals  total_covid_deaths_per_million  population_density  median_age\n",
      "  2   5  exports_perc_gdp  education_years  gdp_per_capita_ppp  inflation_perc  consumer_price_index  goods_imports  prevalence_of_anemia_pregnancy  human_capital_index  net_enrollment_rate  measles_immunization  fossil_fuel_energy_consumption  fuel_exports  fuel_imports  investment_outflows  greenhouse_gas_em  age_dependency_ratio  imports_annual_growth  int_tourism_arrivals  total_covid_deaths_per_million  population_density  median_age\n",
      "  3   1  exports_perc_gdp  education_years  gdp_per_capita_ppp  inflation_perc  consumer_price_index  goods_imports  prevalence_of_anemia_pregnancy  human_capital_index  net_enrollment_rate  measles_immunization  fossil_fuel_energy_consumption  fuel_exports  fuel_imports  investment_outflows  greenhouse_gas_em  age_dependency_ratio  imports_annual_growth  int_tourism_arrivals  total_covid_deaths_per_million  population_density  median_age\n",
      "  3   2  exports_perc_gdp  education_years  gdp_per_capita_ppp  inflation_perc  consumer_price_index  goods_imports  prevalence_of_anemia_pregnancy  human_capital_index  net_enrollment_rate  measles_immunization  fossil_fuel_energy_consumption  fuel_exports  fuel_imports  investment_outflows  greenhouse_gas_em  age_dependency_ratio  imports_annual_growth  int_tourism_arrivals  total_covid_deaths_per_million  population_density  median_age\n",
      "  3   3  exports_perc_gdp  education_years  gdp_per_capita_ppp  inflation_perc  consumer_price_index  goods_imports  prevalence_of_anemia_pregnancy  human_capital_index  net_enrollment_rate  measles_immunization  fossil_fuel_energy_consumption  fuel_exports  fuel_imports  investment_outflows  greenhouse_gas_em  age_dependency_ratio  imports_annual_growth  int_tourism_arrivals  total_covid_deaths_per_million  population_density  median_age\n",
      "  3   4  exports_perc_gdp  education_years  gdp_per_capita_ppp  inflation_perc  consumer_price_index  goods_imports  prevalence_of_anemia_pregnancy  human_capital_index  net_enrollment_rate  measles_immunization  fossil_fuel_energy_consumption  fuel_exports  fuel_imports  investment_outflows  greenhouse_gas_em  age_dependency_ratio  imports_annual_growth  int_tourism_arrivals  total_covid_deaths_per_million  population_density  median_age\n",
      "  3   5  exports_perc_gdp  education_years  gdp_per_capita_ppp  inflation_perc  consumer_price_index  goods_imports  prevalence_of_anemia_pregnancy  human_capital_index  net_enrollment_rate  measles_immunization  fossil_fuel_energy_consumption  fuel_exports  fuel_imports  investment_outflows  greenhouse_gas_em  age_dependency_ratio  imports_annual_growth  int_tourism_arrivals  total_covid_deaths_per_million  population_density  median_age\n",
      "  4   1  exports_perc_gdp  education_years  gdp_per_capita_ppp  inflation_perc  consumer_price_index  goods_imports  prevalence_of_anemia_pregnancy  human_capital_index  net_enrollment_rate  measles_immunization  fossil_fuel_energy_consumption  fuel_exports  fuel_imports  investment_outflows  greenhouse_gas_em  age_dependency_ratio  imports_annual_growth  int_tourism_arrivals  total_covid_deaths_per_million  population_density  median_age\n",
      "  4   2  exports_perc_gdp  education_years  gdp_per_capita_ppp  inflation_perc  consumer_price_index  goods_imports  prevalence_of_anemia_pregnancy  human_capital_index  net_enrollment_rate  measles_immunization  fossil_fuel_energy_consumption  fuel_exports  fuel_imports  investment_outflows  greenhouse_gas_em  age_dependency_ratio  imports_annual_growth  int_tourism_arrivals  total_covid_deaths_per_million  population_density  median_age\n",
      "  4   3  exports_perc_gdp  education_years  gdp_per_capita_ppp  inflation_perc  consumer_price_index  goods_imports  prevalence_of_anemia_pregnancy  human_capital_index  net_enrollment_rate  measles_immunization  fossil_fuel_energy_consumption  fuel_exports  fuel_imports  investment_outflows  greenhouse_gas_em  age_dependency_ratio  imports_annual_growth  int_tourism_arrivals  total_covid_deaths_per_million  population_density  median_age\n",
      "  4   4  exports_perc_gdp  education_years  gdp_per_capita_ppp  inflation_perc  consumer_price_index  goods_imports  prevalence_of_anemia_pregnancy  human_capital_index  net_enrollment_rate  measles_immunization  fossil_fuel_energy_consumption  fuel_exports  fuel_imports  investment_outflows  greenhouse_gas_em  age_dependency_ratio  imports_annual_growth  int_tourism_arrivals  total_covid_deaths_per_million  population_density  median_age\n",
      "  4   5  exports_perc_gdp  education_years  gdp_per_capita_ppp  inflation_perc  consumer_price_index  goods_imports  prevalence_of_anemia_pregnancy  human_capital_index  net_enrollment_rate  measles_immunization  fossil_fuel_energy_consumption  fuel_exports  fuel_imports  investment_outflows  greenhouse_gas_em  age_dependency_ratio  imports_annual_growth  int_tourism_arrivals  total_covid_deaths_per_million  population_density  median_age\n",
      "  5   1  exports_perc_gdp  education_years  gdp_per_capita_ppp  inflation_perc  consumer_price_index  goods_imports  prevalence_of_anemia_pregnancy  human_capital_index  net_enrollment_rate  measles_immunization  fossil_fuel_energy_consumption  fuel_exports  fuel_imports  investment_outflows  greenhouse_gas_em  age_dependency_ratio  imports_annual_growth  int_tourism_arrivals  total_covid_deaths_per_million  population_density  median_age\n",
      "  5   2  exports_perc_gdp  education_years  gdp_per_capita_ppp  inflation_perc  consumer_price_index  goods_imports  prevalence_of_anemia_pregnancy  human_capital_index  net_enrollment_rate  measles_immunization  fossil_fuel_energy_consumption  fuel_exports  fuel_imports  investment_outflows  greenhouse_gas_em  age_dependency_ratio  imports_annual_growth  int_tourism_arrivals  total_covid_deaths_per_million  population_density  median_age\n",
      "  5   3  exports_perc_gdp  education_years  gdp_per_capita_ppp  inflation_perc  consumer_price_index  goods_imports  prevalence_of_anemia_pregnancy  human_capital_index  net_enrollment_rate  measles_immunization  fossil_fuel_energy_consumption  fuel_exports  fuel_imports  investment_outflows  greenhouse_gas_em  age_dependency_ratio  imports_annual_growth  int_tourism_arrivals  total_covid_deaths_per_million  population_density  median_age\n",
      "  5   4  exports_perc_gdp  education_years  gdp_per_capita_ppp  inflation_perc  consumer_price_index  goods_imports  prevalence_of_anemia_pregnancy  human_capital_index  net_enrollment_rate  measles_immunization  fossil_fuel_energy_consumption  fuel_exports  fuel_imports  investment_outflows  greenhouse_gas_em  age_dependency_ratio  imports_annual_growth  int_tourism_arrivals  total_covid_deaths_per_million  population_density  median_age\n",
      "  5   5  exports_perc_gdp  education_years  gdp_per_capita_ppp  inflation_perc  consumer_price_index  goods_imports  prevalence_of_anemia_pregnancy  human_capital_index  net_enrollment_rate  measles_immunization  fossil_fuel_energy_consumption  fuel_exports  fuel_imports  investment_outflows  greenhouse_gas_em  age_dependency_ratio  imports_annual_growth  int_tourism_arrivals  total_covid_deaths_per_million  population_density  median_age\n"
     ]
    },
    {
     "name": "stderr",
     "output_type": "stream",
     "text": [
      "Warning message:\n",
      "“Number of logged events: 529”\n"
     ]
    }
   ],
   "source": [
    "# importing mice library to impute the data\n",
    "library(mice)\n",
    "\n",
    "# reading the csv outputted earlier in the IRkernel to impute the data\n",
    "df <- read.csv('../data/preproc_outputs/data_before_imp.csv')\n",
    "df <- df[,2:length(names(df))]\n",
    "\n",
    "# instantiating the imputer and imputing the data\n",
    "imp = mice(df, m = 5, method = \"cart\")\n",
    "df = complete(imp)\n",
    "\n",
    "# saving csv for reference\n",
    "write.csv(df,'../data/data.csv')"
   ]
  }
 ],
 "metadata": {
  "kernelspec": {
   "display_name": "R",
   "language": "R",
   "name": "ir"
  },
  "language_info": {
   "codemirror_mode": "r",
   "file_extension": ".r",
   "mimetype": "text/x-r-source",
   "name": "R",
   "pygments_lexer": "r",
   "version": "4.0.5"
  },
  "orig_nbformat": 2
 },
 "nbformat": 4,
 "nbformat_minor": 2
}